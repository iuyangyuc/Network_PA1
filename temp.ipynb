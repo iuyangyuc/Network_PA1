{
 "cells": [
  {
   "cell_type": "code",
   "id": "initial_id",
   "metadata": {
    "collapsed": true,
    "ExecuteTime": {
     "end_time": "2024-09-30T19:07:13.746631Z",
     "start_time": "2024-09-30T19:07:13.670315Z"
    }
   },
   "source": [
    "from ping3 import ping\n",
    "\n",
    "rtt = ping('google.com')\n",
    "print(f'RTT: {rtt*1000:.2f} ms')"
   ],
   "outputs": [
    {
     "name": "stdout",
     "output_type": "stream",
     "text": [
      "RTT: 27.76 ms\n"
     ]
    }
   ],
   "execution_count": 1
  },
  {
   "metadata": {
    "ExecuteTime": {
     "end_time": "2024-09-30T19:31:16.259987Z",
     "start_time": "2024-09-30T19:31:15.254757Z"
    }
   },
   "cell_type": "code",
   "source": [
    "import psutil\n",
    "import time\n",
    "\n",
    "initial_bytes_sent = psutil.net_io_counters().bytes_sent\n",
    "initial_bytes_recv = psutil.net_io_counters().bytes_recv\n",
    "\n",
    "time.sleep(1)\n",
    "\n",
    "final_bytes_sent = psutil.net_io_counters().bytes_sent\n",
    "final_bytes_recv = psutil.net_io_counters().bytes_recv\n",
    "\n",
    "sent_throughput = (final_bytes_sent - initial_bytes_sent) / 1\n",
    "recv_throughput = (final_bytes_recv - initial_bytes_recv) / 1\n",
    "\n",
    "print(f\"Sent Throughput: {sent_throughput / 1024:.2f} KBps\")\n",
    "print(f\"Received Throughput: {recv_throughput / 1024:.2f} KBps\")"
   ],
   "id": "4f1a6d9c96873bc8",
   "outputs": [
    {
     "name": "stdout",
     "output_type": "stream",
     "text": [
      "Sent Throughput: 17.00 KBps\n",
      "Received Throughput: 44.00 KBps\n"
     ]
    }
   ],
   "execution_count": 2
  }
 ],
 "metadata": {
  "kernelspec": {
   "display_name": "Python 3",
   "language": "python",
   "name": "python3"
  },
  "language_info": {
   "codemirror_mode": {
    "name": "ipython",
    "version": 2
   },
   "file_extension": ".py",
   "mimetype": "text/x-python",
   "name": "python",
   "nbconvert_exporter": "python",
   "pygments_lexer": "ipython2",
   "version": "2.7.6"
  }
 },
 "nbformat": 4,
 "nbformat_minor": 5
}
