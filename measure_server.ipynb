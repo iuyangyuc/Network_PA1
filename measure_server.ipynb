{
 "cells": [
  {
   "cell_type": "code",
   "id": "initial_id",
   "metadata": {
    "collapsed": true,
    "ExecuteTime": {
     "end_time": "2024-10-01T07:37:05.901994Z",
     "start_time": "2024-10-01T07:37:05.897717Z"
    }
   },
   "source": [
    "import socket\n",
    "import sys\n",
    "import re\n",
    "import time"
   ],
   "outputs": [],
   "execution_count": 1
  },
  {
   "metadata": {
    "ExecuteTime": {
     "end_time": "2024-10-01T07:37:06.854022Z",
     "start_time": "2024-10-01T07:37:06.851549Z"
    }
   },
   "cell_type": "code",
   "source": [
    "def check1(message):\n",
    "    return re.match(r\"^s\\s(rtt|tput)\\s([1-9]|10)\\s([1-9]|[1-9]\\d{1,3}|[12]\\d{4}|32[0-7][0-6][0-8])\\s([1-9]\\d{0,2}|1000)\\n$\", message)\n",
    "\n",
    "def check2(message, message_size):\n",
    "    return re.match(fr\"^m\\s([1-9]|10)\\s.{{{message_size}}}\\n$\", message)\n",
    "\n",
    "def check3(message):\n",
    "    return re.match(r\"^t\\n$\", message)"
   ],
   "id": "6fbe0c4566f15d6a",
   "outputs": [],
   "execution_count": 2
  },
  {
   "metadata": {},
   "cell_type": "code",
   "outputs": [],
   "execution_count": null,
   "source": [
    "def start_server(port):\n",
    "\n",
    "    server_socket = socket.socket(socket.AF_INET, socket.SOCK_STREAM)\n",
    "    server_address = ('', port)\n",
    "    server_socket.bind(server_address)\n",
    "    server_socket.listen(1)\n",
    "    print(f\"Server is listening on port {port}...\")\n",
    "\n",
    "    while True:\n",
    "        connection, client_address = server_socket.accept()\n",
    "        try:\n",
    "            print(f\"Connection from {client_address}\")\n",
    "            while True:\n",
    "                data = connection.recv(1024)\n",
    "                if data:\n",
    "                    message = data.decode()\n",
    "                    print(f\"Received: {message}\")\n",
    "                    if message.lower() == 'exit':\n",
    "                        print(f\"Client {client_address} has disconnected by sending 'exit'.\")\n",
    "                        break\n",
    "                    connection.sendall(data)\n",
    "                else:\n",
    "                    print(f\"Connection closed by {client_address}\")\n",
    "                    break\n",
    "\n",
    "        finally:\n",
    "            connection.close()"
   ],
   "id": "ab9449bc222b05f8"
  }
 ],
 "metadata": {
  "kernelspec": {
   "display_name": "Python 3",
   "language": "python",
   "name": "python3"
  },
  "language_info": {
   "codemirror_mode": {
    "name": "ipython",
    "version": 2
   },
   "file_extension": ".py",
   "mimetype": "text/x-python",
   "name": "python",
   "nbconvert_exporter": "python",
   "pygments_lexer": "ipython2",
   "version": "2.7.6"
  }
 },
 "nbformat": 4,
 "nbformat_minor": 5
}
